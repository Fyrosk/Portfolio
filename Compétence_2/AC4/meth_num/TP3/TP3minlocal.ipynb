{
 "cells": [
  {
   "cell_type": "markdown",
   "metadata": {},
   "source": [
    "# TP n°3 : Obtention d'un minimum local"
   ]
  },
  {
   "cell_type": "markdown",
   "metadata": {},
   "source": [
    "Objectifs : \\\n",
    "Le but de ce TP est de préparer l'algorithme de la descente de gradient."
   ]
  },
  {
   "cell_type": "markdown",
   "metadata": {},
   "source": [
    "### Partie 1 : calcul de la suite qui converge vers l'extremum"
   ]
  },
  {
   "cell_type": "markdown",
   "metadata": {},
   "source": [
    "Commencer par tracer la fonction $f(x)=(x-2)^2$ sur [-2,10]"
   ]
  },
  {
   "cell_type": "code",
   "execution_count": 3,
   "metadata": {},
   "outputs": [
    {
     "data": {
      "image/png": "[encoded data removed]",
      "text/plain": [
       "<Figure size 432x288 with 1 Axes>"
      ]
     },
     "metadata": {
      "needs_background": "light"
     },
     "output_type": "display_data"
    }
   ],
   "source": [
    "#code attendu\n",
    "import math as m\n",
    "import matplotlib.pyplot as plt\n",
    "import numpy as np\n",
    "def P(x):\n",
    "    return (x-2)**2\n",
    "\n",
    "valeurs_x=np.linspace(-2,10,70)\n",
    "valeurs_y=[]\n",
    "for i in valeurs_x:\n",
    "    valeurs_y.append(P(i))\n",
    "plt.plot(valeurs_x,valeurs_y)\n",
    "plt.xlim(-2, 10)\n",
    "plt.show()\n"
   ]
  },
  {
   "cell_type": "markdown",
   "metadata": {},
   "source": [
    "Faire calculer les éléments de la suite qui permet de converger vers le minimum de cette fonction, en partant de 8, et en utilisant un alpha de 0.2 (cf suite p 12 du cours). On pourra commencer par 7 itérations"
   ]
  },
  {
   "cell_type": "code",
   "execution_count": 6,
   "metadata": {},
   "outputs": [
    {
     "name": "stdout",
     "output_type": "stream",
     "text": [
      "2.1679616\n"
     ]
    }
   ],
   "source": [
    "#code attendu\n",
    "def Fprime(x):\n",
    "    return 2*(x-2)\n",
    "\n",
    "def Min(debut, alpha, iterration):\n",
    "    for i in range (iterration):\n",
    "        debut = (debut) - alpha * Fprime(debut)\n",
    "    return debut\n",
    "\n",
    "print(Min(8,0.2,7))"
   ]
  },
  {
   "cell_type": "markdown",
   "metadata": {},
   "source": [
    "### Partie 2 : représentation graphique de la suite"
   ]
  },
  {
   "cell_type": "markdown",
   "metadata": {},
   "source": [
    "Indiquer quelle est l'équation de la tangente au point 8 (rappel : y =f '(a)*(x-a) + f(a))"
   ]
  },
  {
   "cell_type": "markdown",
   "metadata": {},
   "source": [
    "équation : "
   ]
  },
  {
   "cell_type": "markdown",
   "metadata": {},
   "source": [
    "Evaluer les instructions suivantes"
   ]
  },
  {
   "cell_type": "code",
   "execution_count": null,
   "metadata": {},
   "outputs": [],
   "source": [
    "import numpy as np\n",
    "import matplotlib.pyplot as plt\n",
    "\n",
    "k = 2*np.pi\n",
    "w = 2*np.pi\n",
    "dt = 0.01  \n",
    "\n",
    "x = np.linspace(0, 3, 151)\n",
    "\n",
    "for i in range(50):\n",
    "    t = i * dt\n",
    "    y = np.cos(k*x - w*t)\n",
    "    plt.plot(x, y)\n",
    "    plt.pause(0.01) # pause avec duree en secondes\n",
    "\n",
    "plt.show()"
   ]
  },
  {
   "cell_type": "markdown",
   "metadata": {},
   "source": [
    "Utiliser la méthode exposée, pour afficher les tangentes successives aux points d'abscisse donnés par la suite, sur 7 itérations"
   ]
  },
  {
   "cell_type": "code",
   "execution_count": null,
   "metadata": {},
   "outputs": [],
   "source": [
    "#code attendu"
   ]
  },
  {
   "cell_type": "markdown",
   "metadata": {},
   "source": [
    "### Compléments : passage en 3D"
   ]
  },
  {
   "cell_type": "markdown",
   "metadata": {},
   "source": [
    "Evaluer les instructions suivantes"
   ]
  },
  {
   "cell_type": "code",
   "execution_count": null,
   "metadata": {},
   "outputs": [],
   "source": [
    "import numpy as np\n",
    "import matplotlib.pyplot as plt\n",
    "from mpl_toolkits import mplot3d\n",
    "from sympy import diff \n",
    "\n",
    "fig = plt.figure(figsize=(8,6))\n",
    "\n",
    "# Plot a 3D surface\n",
    "xdata = np.linspace(-3,3,100)\n",
    "ydata = np.linspace(-3,3,100)\n",
    "X,Y = np.meshgrid(xdata,ydata)\n",
    "Z = X**2+Y**2\n",
    "ax3d = plt.axes(projection='3d')\n",
    "\n",
    "\n",
    "ax3d.plot_surface(X, Y, Z)\n",
    "ax3d.set_title('fonction x²+y²')\n",
    "ax3d.set_xlabel('X')\n",
    "ax3d.set_ylabel('Y')\n",
    "ax3d.set_zlabel('Z')\n",
    "\n",
    "plt.show()"
   ]
  },
  {
   "cell_type": "markdown",
   "metadata": {},
   "source": [
    "Ajouter à ce dessin le plan tangent au point (1,1,f(1,1))"
   ]
  },
  {
   "cell_type": "markdown",
   "metadata": {},
   "source": [
    "Définir les 2 suites qui permettent de converger vers la valeur minimale de cette fonction"
   ]
  },
  {
   "cell_type": "code",
   "execution_count": null,
   "metadata": {},
   "outputs": [],
   "source": [
    "#code attendu"
   ]
  },
  {
   "cell_type": "markdown",
   "metadata": {},
   "source": [
    "Représenter graphiquement les plans tangents successifs"
   ]
  },
  {
   "cell_type": "code",
   "execution_count": null,
   "metadata": {},
   "outputs": [],
   "source": [
    "#code attendu"
   ]
  }
 ],
 "metadata": {
  "interpreter": {
   "hash": "d41f633da6a0ed462606ff387ac8d93faacd97ec55d72fd1ffe37702897b9b90"
  },
  "kernelspec": {
   "display_name": "Python 3.10.4 64-bit",
   "language": "python",
   "name": "python3"
  },
  "language_info": {
   "codemirror_mode": {
    "name": "ipython",
    "version": 3
   },
   "file_extension": ".py",
   "mimetype": "text/x-python",
   "name": "python",
   "nbconvert_exporter": "python",
   "pygments_lexer": "ipython3",
   "version": "3.10.4"
  },
  "orig_nbformat": 4
 },
 "nbformat": 4,
 "nbformat_minor": 2
}
